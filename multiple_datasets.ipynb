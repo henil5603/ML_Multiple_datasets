{
 "cells": [
  {
   "cell_type": "code",
   "execution_count": 71,
   "id": "09ed4c76",
   "metadata": {},
   "outputs": [],
   "source": [
    "import pandas as pd"
   ]
  },
  {
   "cell_type": "code",
   "execution_count": 72,
   "id": "b49f5144",
   "metadata": {},
   "outputs": [
    {
     "data": {
      "text/html": [
       "<div>\n",
       "<style scoped>\n",
       "    .dataframe tbody tr th:only-of-type {\n",
       "        vertical-align: middle;\n",
       "    }\n",
       "\n",
       "    .dataframe tbody tr th {\n",
       "        vertical-align: top;\n",
       "    }\n",
       "\n",
       "    .dataframe thead th {\n",
       "        text-align: right;\n",
       "    }\n",
       "</style>\n",
       "<table border=\"1\" class=\"dataframe\">\n",
       "  <thead>\n",
       "    <tr style=\"text-align: right;\">\n",
       "      <th></th>\n",
       "      <th>Roll no</th>\n",
       "      <th>test preparation</th>\n",
       "      <th>gender</th>\n",
       "      <th>parental level of education</th>\n",
       "      <th>lunch</th>\n",
       "      <th>Section</th>\n",
       "      <th>practical score</th>\n",
       "      <th>viva score</th>\n",
       "      <th>exam score</th>\n",
       "    </tr>\n",
       "  </thead>\n",
       "  <tbody>\n",
       "    <tr>\n",
       "      <th>0</th>\n",
       "      <td>EXA000001</td>\n",
       "      <td>none</td>\n",
       "      <td>male</td>\n",
       "      <td>some college</td>\n",
       "      <td>standard</td>\n",
       "      <td>Section A</td>\n",
       "      <td>70</td>\n",
       "      <td>73</td>\n",
       "      <td>70</td>\n",
       "    </tr>\n",
       "    <tr>\n",
       "      <th>1</th>\n",
       "      <td>EXA000002</td>\n",
       "      <td>none</td>\n",
       "      <td>male</td>\n",
       "      <td>master's degree</td>\n",
       "      <td>free/reduced</td>\n",
       "      <td>Section C</td>\n",
       "      <td>55</td>\n",
       "      <td>54</td>\n",
       "      <td>52</td>\n",
       "    </tr>\n",
       "    <tr>\n",
       "      <th>2</th>\n",
       "      <td>EXA000003</td>\n",
       "      <td>none</td>\n",
       "      <td>male</td>\n",
       "      <td>master's degree</td>\n",
       "      <td>free/reduced</td>\n",
       "      <td>Section E</td>\n",
       "      <td>56</td>\n",
       "      <td>46</td>\n",
       "      <td>43</td>\n",
       "    </tr>\n",
       "    <tr>\n",
       "      <th>3</th>\n",
       "      <td>EXA000004</td>\n",
       "      <td>none</td>\n",
       "      <td>female</td>\n",
       "      <td>some college</td>\n",
       "      <td>free/reduced</td>\n",
       "      <td>Section C</td>\n",
       "      <td>35</td>\n",
       "      <td>47</td>\n",
       "      <td>41</td>\n",
       "    </tr>\n",
       "    <tr>\n",
       "      <th>4</th>\n",
       "      <td>EXA000005</td>\n",
       "      <td>none</td>\n",
       "      <td>female</td>\n",
       "      <td>high school</td>\n",
       "      <td>standard</td>\n",
       "      <td>Section C</td>\n",
       "      <td>87</td>\n",
       "      <td>92</td>\n",
       "      <td>81</td>\n",
       "    </tr>\n",
       "    <tr>\n",
       "      <th>...</th>\n",
       "      <td>...</td>\n",
       "      <td>...</td>\n",
       "      <td>...</td>\n",
       "      <td>...</td>\n",
       "      <td>...</td>\n",
       "      <td>...</td>\n",
       "      <td>...</td>\n",
       "      <td>...</td>\n",
       "      <td>...</td>\n",
       "    </tr>\n",
       "    <tr>\n",
       "      <th>31994</th>\n",
       "      <td>EXA031995</td>\n",
       "      <td>none</td>\n",
       "      <td>male</td>\n",
       "      <td>some high school</td>\n",
       "      <td>free/reduced</td>\n",
       "      <td>Section E</td>\n",
       "      <td>63</td>\n",
       "      <td>53</td>\n",
       "      <td>80</td>\n",
       "    </tr>\n",
       "    <tr>\n",
       "      <th>31995</th>\n",
       "      <td>EXA031996</td>\n",
       "      <td>none</td>\n",
       "      <td>female</td>\n",
       "      <td>high school</td>\n",
       "      <td>standard</td>\n",
       "      <td>Section B</td>\n",
       "      <td>100</td>\n",
       "      <td>80</td>\n",
       "      <td>68</td>\n",
       "    </tr>\n",
       "    <tr>\n",
       "      <th>31996</th>\n",
       "      <td>EXA031997</td>\n",
       "      <td>none</td>\n",
       "      <td>male</td>\n",
       "      <td>bachelor's degree</td>\n",
       "      <td>free/reduced</td>\n",
       "      <td>Section B</td>\n",
       "      <td>62</td>\n",
       "      <td>61</td>\n",
       "      <td>74</td>\n",
       "    </tr>\n",
       "    <tr>\n",
       "      <th>31997</th>\n",
       "      <td>EXA031998</td>\n",
       "      <td>none</td>\n",
       "      <td>male</td>\n",
       "      <td>associate's degree</td>\n",
       "      <td>standard</td>\n",
       "      <td>Section D</td>\n",
       "      <td>75</td>\n",
       "      <td>32</td>\n",
       "      <td>82</td>\n",
       "    </tr>\n",
       "    <tr>\n",
       "      <th>31998</th>\n",
       "      <td>EXA031999</td>\n",
       "      <td>none</td>\n",
       "      <td>male</td>\n",
       "      <td>some high school</td>\n",
       "      <td>standard</td>\n",
       "      <td>Section C</td>\n",
       "      <td>51</td>\n",
       "      <td>92</td>\n",
       "      <td>82</td>\n",
       "    </tr>\n",
       "  </tbody>\n",
       "</table>\n",
       "<p>31999 rows × 9 columns</p>\n",
       "</div>"
      ],
      "text/plain": [
       "         Roll no test preparation   gender parental level of education  \\\n",
       "0      EXA000001              none    male                some college   \n",
       "1      EXA000002              none    male             master's degree   \n",
       "2      EXA000003              none    male             master's degree   \n",
       "3      EXA000004              none  female                some college   \n",
       "4      EXA000005              none  female                 high school   \n",
       "...          ...               ...     ...                         ...   \n",
       "31994  EXA031995              none    male            some high school   \n",
       "31995  EXA031996              none  female                 high school   \n",
       "31996  EXA031997              none    male           bachelor's degree   \n",
       "31997  EXA031998              none    male          associate's degree   \n",
       "31998  EXA031999              none    male            some high school   \n",
       "\n",
       "              lunch    Section  practical score  viva score  exam score  \n",
       "0          standard  Section A               70          73          70  \n",
       "1      free/reduced  Section C               55          54          52  \n",
       "2      free/reduced  Section E               56          46          43  \n",
       "3      free/reduced  Section C               35          47          41  \n",
       "4          standard  Section C               87          92          81  \n",
       "...             ...        ...              ...         ...         ...  \n",
       "31994  free/reduced  Section E               63          53          80  \n",
       "31995      standard  Section B              100          80          68  \n",
       "31996  free/reduced  Section B               62          61          74  \n",
       "31997      standard  Section D               75          32          82  \n",
       "31998      standard  Section C               51          92          82  \n",
       "\n",
       "[31999 rows x 9 columns]"
      ]
     },
     "execution_count": 72,
     "metadata": {},
     "output_type": "execute_result"
    }
   ],
   "source": [
    "train_data = pd.read_csv('C:/Users/Admin/Desktop/ML_PROJECT/2/train.csv')\n",
    "train_data"
   ]
  },
  {
   "cell_type": "code",
   "execution_count": 73,
   "id": "118a6e97",
   "metadata": {},
   "outputs": [
    {
     "data": {
      "text/html": [
       "<div>\n",
       "<style scoped>\n",
       "    .dataframe tbody tr th:only-of-type {\n",
       "        vertical-align: middle;\n",
       "    }\n",
       "\n",
       "    .dataframe tbody tr th {\n",
       "        vertical-align: top;\n",
       "    }\n",
       "\n",
       "    .dataframe thead th {\n",
       "        text-align: right;\n",
       "    }\n",
       "</style>\n",
       "<table border=\"1\" class=\"dataframe\">\n",
       "  <thead>\n",
       "    <tr style=\"text-align: right;\">\n",
       "      <th></th>\n",
       "      <th>Roll no</th>\n",
       "      <th>test preparation</th>\n",
       "      <th>gender</th>\n",
       "      <th>parental level of education</th>\n",
       "      <th>lunch</th>\n",
       "      <th>Section</th>\n",
       "      <th>practical score</th>\n",
       "      <th>viva score</th>\n",
       "    </tr>\n",
       "  </thead>\n",
       "  <tbody>\n",
       "    <tr>\n",
       "      <th>0</th>\n",
       "      <td>EXA32000</td>\n",
       "      <td>none</td>\n",
       "      <td>male</td>\n",
       "      <td>associate's degree</td>\n",
       "      <td>standard</td>\n",
       "      <td>Section C</td>\n",
       "      <td>74</td>\n",
       "      <td>89</td>\n",
       "    </tr>\n",
       "    <tr>\n",
       "      <th>1</th>\n",
       "      <td>EXA32001</td>\n",
       "      <td>completed</td>\n",
       "      <td>male</td>\n",
       "      <td>some high school</td>\n",
       "      <td>standard</td>\n",
       "      <td>Section E</td>\n",
       "      <td>66</td>\n",
       "      <td>75</td>\n",
       "    </tr>\n",
       "    <tr>\n",
       "      <th>2</th>\n",
       "      <td>EXA32002</td>\n",
       "      <td>none</td>\n",
       "      <td>male</td>\n",
       "      <td>some high school</td>\n",
       "      <td>standard</td>\n",
       "      <td>Section C</td>\n",
       "      <td>52</td>\n",
       "      <td>55</td>\n",
       "    </tr>\n",
       "    <tr>\n",
       "      <th>3</th>\n",
       "      <td>EXA32003</td>\n",
       "      <td>completed</td>\n",
       "      <td>male</td>\n",
       "      <td>some high school</td>\n",
       "      <td>standard</td>\n",
       "      <td>Section D</td>\n",
       "      <td>69</td>\n",
       "      <td>85</td>\n",
       "    </tr>\n",
       "    <tr>\n",
       "      <th>4</th>\n",
       "      <td>EXA32004</td>\n",
       "      <td>none</td>\n",
       "      <td>female</td>\n",
       "      <td>bachelor's degree</td>\n",
       "      <td>standard</td>\n",
       "      <td>Section E</td>\n",
       "      <td>46</td>\n",
       "      <td>62</td>\n",
       "    </tr>\n",
       "    <tr>\n",
       "      <th>...</th>\n",
       "      <td>...</td>\n",
       "      <td>...</td>\n",
       "      <td>...</td>\n",
       "      <td>...</td>\n",
       "      <td>...</td>\n",
       "      <td>...</td>\n",
       "      <td>...</td>\n",
       "      <td>...</td>\n",
       "    </tr>\n",
       "    <tr>\n",
       "      <th>95</th>\n",
       "      <td>EXA32095</td>\n",
       "      <td>none</td>\n",
       "      <td>male</td>\n",
       "      <td>bachelor's degree</td>\n",
       "      <td>standard</td>\n",
       "      <td>Section B</td>\n",
       "      <td>82</td>\n",
       "      <td>84</td>\n",
       "    </tr>\n",
       "    <tr>\n",
       "      <th>96</th>\n",
       "      <td>EXA32096</td>\n",
       "      <td>completed</td>\n",
       "      <td>male</td>\n",
       "      <td>associate's degree</td>\n",
       "      <td>free/reduced</td>\n",
       "      <td>Section B</td>\n",
       "      <td>70</td>\n",
       "      <td>58</td>\n",
       "    </tr>\n",
       "    <tr>\n",
       "      <th>97</th>\n",
       "      <td>EXA32097</td>\n",
       "      <td>none</td>\n",
       "      <td>male</td>\n",
       "      <td>some college</td>\n",
       "      <td>standard</td>\n",
       "      <td>Section C</td>\n",
       "      <td>76</td>\n",
       "      <td>67</td>\n",
       "    </tr>\n",
       "    <tr>\n",
       "      <th>98</th>\n",
       "      <td>EXA32098</td>\n",
       "      <td>completed</td>\n",
       "      <td>male</td>\n",
       "      <td>associate's degree</td>\n",
       "      <td>standard</td>\n",
       "      <td>Section A</td>\n",
       "      <td>62</td>\n",
       "      <td>71</td>\n",
       "    </tr>\n",
       "    <tr>\n",
       "      <th>99</th>\n",
       "      <td>EXA32099</td>\n",
       "      <td>none</td>\n",
       "      <td>male</td>\n",
       "      <td>high school</td>\n",
       "      <td>standard</td>\n",
       "      <td>Section B</td>\n",
       "      <td>58</td>\n",
       "      <td>67</td>\n",
       "    </tr>\n",
       "  </tbody>\n",
       "</table>\n",
       "<p>100 rows × 8 columns</p>\n",
       "</div>"
      ],
      "text/plain": [
       "     Roll no test preparation   gender parental level of education  \\\n",
       "0   EXA32000              none    male          associate's degree   \n",
       "1   EXA32001         completed    male            some high school   \n",
       "2   EXA32002              none    male            some high school   \n",
       "3   EXA32003         completed    male            some high school   \n",
       "4   EXA32004              none  female           bachelor's degree   \n",
       "..       ...               ...     ...                         ...   \n",
       "95  EXA32095              none    male           bachelor's degree   \n",
       "96  EXA32096         completed    male          associate's degree   \n",
       "97  EXA32097              none    male                some college   \n",
       "98  EXA32098         completed    male          associate's degree   \n",
       "99  EXA32099              none    male                 high school   \n",
       "\n",
       "           lunch    Section  practical score  viva score  \n",
       "0       standard  Section C               74          89  \n",
       "1       standard  Section E               66          75  \n",
       "2       standard  Section C               52          55  \n",
       "3       standard  Section D               69          85  \n",
       "4       standard  Section E               46          62  \n",
       "..           ...        ...              ...         ...  \n",
       "95      standard  Section B               82          84  \n",
       "96  free/reduced  Section B               70          58  \n",
       "97      standard  Section C               76          67  \n",
       "98      standard  Section A               62          71  \n",
       "99      standard  Section B               58          67  \n",
       "\n",
       "[100 rows x 8 columns]"
      ]
     },
     "execution_count": 73,
     "metadata": {},
     "output_type": "execute_result"
    }
   ],
   "source": [
    "test_data = pd.read_csv('C:/Users/Admin/Desktop/ML_PROJECT/2/test.csv')\n",
    "test_data"
   ]
  },
  {
   "cell_type": "code",
   "execution_count": 74,
   "id": "475eac60",
   "metadata": {},
   "outputs": [
    {
     "data": {
      "text/html": [
       "<div>\n",
       "<style scoped>\n",
       "    .dataframe tbody tr th:only-of-type {\n",
       "        vertical-align: middle;\n",
       "    }\n",
       "\n",
       "    .dataframe tbody tr th {\n",
       "        vertical-align: top;\n",
       "    }\n",
       "\n",
       "    .dataframe thead th {\n",
       "        text-align: right;\n",
       "    }\n",
       "</style>\n",
       "<table border=\"1\" class=\"dataframe\">\n",
       "  <thead>\n",
       "    <tr style=\"text-align: right;\">\n",
       "      <th></th>\n",
       "      <th>Roll no</th>\n",
       "      <th>test preparation</th>\n",
       "      <th>gender</th>\n",
       "      <th>parental level of education</th>\n",
       "      <th>lunch</th>\n",
       "      <th>Section</th>\n",
       "      <th>practical score</th>\n",
       "      <th>viva score</th>\n",
       "      <th>exam score</th>\n",
       "    </tr>\n",
       "  </thead>\n",
       "  <tbody>\n",
       "    <tr>\n",
       "      <th>0</th>\n",
       "      <td>EXA000001</td>\n",
       "      <td>none</td>\n",
       "      <td>male</td>\n",
       "      <td>some college</td>\n",
       "      <td>standard</td>\n",
       "      <td>Section A</td>\n",
       "      <td>70</td>\n",
       "      <td>73</td>\n",
       "      <td>70</td>\n",
       "    </tr>\n",
       "    <tr>\n",
       "      <th>1</th>\n",
       "      <td>EXA000002</td>\n",
       "      <td>none</td>\n",
       "      <td>male</td>\n",
       "      <td>master's degree</td>\n",
       "      <td>free/reduced</td>\n",
       "      <td>Section C</td>\n",
       "      <td>55</td>\n",
       "      <td>54</td>\n",
       "      <td>52</td>\n",
       "    </tr>\n",
       "    <tr>\n",
       "      <th>2</th>\n",
       "      <td>EXA000003</td>\n",
       "      <td>none</td>\n",
       "      <td>male</td>\n",
       "      <td>master's degree</td>\n",
       "      <td>free/reduced</td>\n",
       "      <td>Section E</td>\n",
       "      <td>56</td>\n",
       "      <td>46</td>\n",
       "      <td>43</td>\n",
       "    </tr>\n",
       "    <tr>\n",
       "      <th>3</th>\n",
       "      <td>EXA000004</td>\n",
       "      <td>none</td>\n",
       "      <td>female</td>\n",
       "      <td>some college</td>\n",
       "      <td>free/reduced</td>\n",
       "      <td>Section C</td>\n",
       "      <td>35</td>\n",
       "      <td>47</td>\n",
       "      <td>41</td>\n",
       "    </tr>\n",
       "    <tr>\n",
       "      <th>4</th>\n",
       "      <td>EXA000005</td>\n",
       "      <td>none</td>\n",
       "      <td>female</td>\n",
       "      <td>high school</td>\n",
       "      <td>standard</td>\n",
       "      <td>Section C</td>\n",
       "      <td>87</td>\n",
       "      <td>92</td>\n",
       "      <td>81</td>\n",
       "    </tr>\n",
       "  </tbody>\n",
       "</table>\n",
       "</div>"
      ],
      "text/plain": [
       "     Roll no test preparation   gender parental level of education  \\\n",
       "0  EXA000001              none    male                some college   \n",
       "1  EXA000002              none    male             master's degree   \n",
       "2  EXA000003              none    male             master's degree   \n",
       "3  EXA000004              none  female                some college   \n",
       "4  EXA000005              none  female                 high school   \n",
       "\n",
       "          lunch    Section  practical score  viva score  exam score  \n",
       "0      standard  Section A               70          73          70  \n",
       "1  free/reduced  Section C               55          54          52  \n",
       "2  free/reduced  Section E               56          46          43  \n",
       "3  free/reduced  Section C               35          47          41  \n",
       "4      standard  Section C               87          92          81  "
      ]
     },
     "execution_count": 74,
     "metadata": {},
     "output_type": "execute_result"
    }
   ],
   "source": [
    "train_data.head(5)"
   ]
  },
  {
   "cell_type": "code",
   "execution_count": 75,
   "id": "ff1fe222",
   "metadata": {},
   "outputs": [
    {
     "data": {
      "text/html": [
       "<div>\n",
       "<style scoped>\n",
       "    .dataframe tbody tr th:only-of-type {\n",
       "        vertical-align: middle;\n",
       "    }\n",
       "\n",
       "    .dataframe tbody tr th {\n",
       "        vertical-align: top;\n",
       "    }\n",
       "\n",
       "    .dataframe thead th {\n",
       "        text-align: right;\n",
       "    }\n",
       "</style>\n",
       "<table border=\"1\" class=\"dataframe\">\n",
       "  <thead>\n",
       "    <tr style=\"text-align: right;\">\n",
       "      <th></th>\n",
       "      <th>Roll no</th>\n",
       "      <th>test preparation</th>\n",
       "      <th>gender</th>\n",
       "      <th>parental level of education</th>\n",
       "      <th>lunch</th>\n",
       "      <th>Section</th>\n",
       "      <th>practical score</th>\n",
       "      <th>viva score</th>\n",
       "    </tr>\n",
       "  </thead>\n",
       "  <tbody>\n",
       "    <tr>\n",
       "      <th>0</th>\n",
       "      <td>EXA32000</td>\n",
       "      <td>none</td>\n",
       "      <td>male</td>\n",
       "      <td>associate's degree</td>\n",
       "      <td>standard</td>\n",
       "      <td>Section C</td>\n",
       "      <td>74</td>\n",
       "      <td>89</td>\n",
       "    </tr>\n",
       "    <tr>\n",
       "      <th>1</th>\n",
       "      <td>EXA32001</td>\n",
       "      <td>completed</td>\n",
       "      <td>male</td>\n",
       "      <td>some high school</td>\n",
       "      <td>standard</td>\n",
       "      <td>Section E</td>\n",
       "      <td>66</td>\n",
       "      <td>75</td>\n",
       "    </tr>\n",
       "    <tr>\n",
       "      <th>2</th>\n",
       "      <td>EXA32002</td>\n",
       "      <td>none</td>\n",
       "      <td>male</td>\n",
       "      <td>some high school</td>\n",
       "      <td>standard</td>\n",
       "      <td>Section C</td>\n",
       "      <td>52</td>\n",
       "      <td>55</td>\n",
       "    </tr>\n",
       "    <tr>\n",
       "      <th>3</th>\n",
       "      <td>EXA32003</td>\n",
       "      <td>completed</td>\n",
       "      <td>male</td>\n",
       "      <td>some high school</td>\n",
       "      <td>standard</td>\n",
       "      <td>Section D</td>\n",
       "      <td>69</td>\n",
       "      <td>85</td>\n",
       "    </tr>\n",
       "    <tr>\n",
       "      <th>4</th>\n",
       "      <td>EXA32004</td>\n",
       "      <td>none</td>\n",
       "      <td>female</td>\n",
       "      <td>bachelor's degree</td>\n",
       "      <td>standard</td>\n",
       "      <td>Section E</td>\n",
       "      <td>46</td>\n",
       "      <td>62</td>\n",
       "    </tr>\n",
       "  </tbody>\n",
       "</table>\n",
       "</div>"
      ],
      "text/plain": [
       "    Roll no test preparation   gender parental level of education     lunch  \\\n",
       "0  EXA32000              none    male          associate's degree  standard   \n",
       "1  EXA32001         completed    male            some high school  standard   \n",
       "2  EXA32002              none    male            some high school  standard   \n",
       "3  EXA32003         completed    male            some high school  standard   \n",
       "4  EXA32004              none  female           bachelor's degree  standard   \n",
       "\n",
       "     Section  practical score  viva score  \n",
       "0  Section C               74          89  \n",
       "1  Section E               66          75  \n",
       "2  Section C               52          55  \n",
       "3  Section D               69          85  \n",
       "4  Section E               46          62  "
      ]
     },
     "execution_count": 75,
     "metadata": {},
     "output_type": "execute_result"
    }
   ],
   "source": [
    "test_data.head(5)"
   ]
  },
  {
   "cell_type": "code",
   "execution_count": 76,
   "id": "14a09758",
   "metadata": {},
   "outputs": [
    {
     "data": {
      "text/html": [
       "<div>\n",
       "<style scoped>\n",
       "    .dataframe tbody tr th:only-of-type {\n",
       "        vertical-align: middle;\n",
       "    }\n",
       "\n",
       "    .dataframe tbody tr th {\n",
       "        vertical-align: top;\n",
       "    }\n",
       "\n",
       "    .dataframe thead th {\n",
       "        text-align: right;\n",
       "    }\n",
       "</style>\n",
       "<table border=\"1\" class=\"dataframe\">\n",
       "  <thead>\n",
       "    <tr style=\"text-align: right;\">\n",
       "      <th></th>\n",
       "      <th>Roll no</th>\n",
       "      <th>test preparation</th>\n",
       "      <th>gender</th>\n",
       "      <th>parental level of education</th>\n",
       "      <th>lunch</th>\n",
       "      <th>Section</th>\n",
       "      <th>practical score</th>\n",
       "      <th>viva score</th>\n",
       "      <th>exam score</th>\n",
       "    </tr>\n",
       "  </thead>\n",
       "  <tbody>\n",
       "    <tr>\n",
       "      <th>0</th>\n",
       "      <td>EXA000001</td>\n",
       "      <td>none</td>\n",
       "      <td>male</td>\n",
       "      <td>some college</td>\n",
       "      <td>standard</td>\n",
       "      <td>Section A</td>\n",
       "      <td>70</td>\n",
       "      <td>73</td>\n",
       "      <td>70.0</td>\n",
       "    </tr>\n",
       "    <tr>\n",
       "      <th>1</th>\n",
       "      <td>EXA000002</td>\n",
       "      <td>none</td>\n",
       "      <td>male</td>\n",
       "      <td>master's degree</td>\n",
       "      <td>free/reduced</td>\n",
       "      <td>Section C</td>\n",
       "      <td>55</td>\n",
       "      <td>54</td>\n",
       "      <td>52.0</td>\n",
       "    </tr>\n",
       "    <tr>\n",
       "      <th>2</th>\n",
       "      <td>EXA000003</td>\n",
       "      <td>none</td>\n",
       "      <td>male</td>\n",
       "      <td>master's degree</td>\n",
       "      <td>free/reduced</td>\n",
       "      <td>Section E</td>\n",
       "      <td>56</td>\n",
       "      <td>46</td>\n",
       "      <td>43.0</td>\n",
       "    </tr>\n",
       "    <tr>\n",
       "      <th>3</th>\n",
       "      <td>EXA000004</td>\n",
       "      <td>none</td>\n",
       "      <td>female</td>\n",
       "      <td>some college</td>\n",
       "      <td>free/reduced</td>\n",
       "      <td>Section C</td>\n",
       "      <td>35</td>\n",
       "      <td>47</td>\n",
       "      <td>41.0</td>\n",
       "    </tr>\n",
       "    <tr>\n",
       "      <th>4</th>\n",
       "      <td>EXA000005</td>\n",
       "      <td>none</td>\n",
       "      <td>female</td>\n",
       "      <td>high school</td>\n",
       "      <td>standard</td>\n",
       "      <td>Section C</td>\n",
       "      <td>87</td>\n",
       "      <td>92</td>\n",
       "      <td>81.0</td>\n",
       "    </tr>\n",
       "    <tr>\n",
       "      <th>...</th>\n",
       "      <td>...</td>\n",
       "      <td>...</td>\n",
       "      <td>...</td>\n",
       "      <td>...</td>\n",
       "      <td>...</td>\n",
       "      <td>...</td>\n",
       "      <td>...</td>\n",
       "      <td>...</td>\n",
       "      <td>...</td>\n",
       "    </tr>\n",
       "    <tr>\n",
       "      <th>32094</th>\n",
       "      <td>EXA32095</td>\n",
       "      <td>none</td>\n",
       "      <td>male</td>\n",
       "      <td>bachelor's degree</td>\n",
       "      <td>standard</td>\n",
       "      <td>Section B</td>\n",
       "      <td>82</td>\n",
       "      <td>84</td>\n",
       "      <td>NaN</td>\n",
       "    </tr>\n",
       "    <tr>\n",
       "      <th>32095</th>\n",
       "      <td>EXA32096</td>\n",
       "      <td>completed</td>\n",
       "      <td>male</td>\n",
       "      <td>associate's degree</td>\n",
       "      <td>free/reduced</td>\n",
       "      <td>Section B</td>\n",
       "      <td>70</td>\n",
       "      <td>58</td>\n",
       "      <td>NaN</td>\n",
       "    </tr>\n",
       "    <tr>\n",
       "      <th>32096</th>\n",
       "      <td>EXA32097</td>\n",
       "      <td>none</td>\n",
       "      <td>male</td>\n",
       "      <td>some college</td>\n",
       "      <td>standard</td>\n",
       "      <td>Section C</td>\n",
       "      <td>76</td>\n",
       "      <td>67</td>\n",
       "      <td>NaN</td>\n",
       "    </tr>\n",
       "    <tr>\n",
       "      <th>32097</th>\n",
       "      <td>EXA32098</td>\n",
       "      <td>completed</td>\n",
       "      <td>male</td>\n",
       "      <td>associate's degree</td>\n",
       "      <td>standard</td>\n",
       "      <td>Section A</td>\n",
       "      <td>62</td>\n",
       "      <td>71</td>\n",
       "      <td>NaN</td>\n",
       "    </tr>\n",
       "    <tr>\n",
       "      <th>32098</th>\n",
       "      <td>EXA32099</td>\n",
       "      <td>none</td>\n",
       "      <td>male</td>\n",
       "      <td>high school</td>\n",
       "      <td>standard</td>\n",
       "      <td>Section B</td>\n",
       "      <td>58</td>\n",
       "      <td>67</td>\n",
       "      <td>NaN</td>\n",
       "    </tr>\n",
       "  </tbody>\n",
       "</table>\n",
       "<p>32099 rows × 9 columns</p>\n",
       "</div>"
      ],
      "text/plain": [
       "         Roll no test preparation   gender parental level of education  \\\n",
       "0      EXA000001              none    male                some college   \n",
       "1      EXA000002              none    male             master's degree   \n",
       "2      EXA000003              none    male             master's degree   \n",
       "3      EXA000004              none  female                some college   \n",
       "4      EXA000005              none  female                 high school   \n",
       "...          ...               ...     ...                         ...   \n",
       "32094   EXA32095              none    male           bachelor's degree   \n",
       "32095   EXA32096         completed    male          associate's degree   \n",
       "32096   EXA32097              none    male                some college   \n",
       "32097   EXA32098         completed    male          associate's degree   \n",
       "32098   EXA32099              none    male                 high school   \n",
       "\n",
       "              lunch    Section  practical score  viva score  exam score  \n",
       "0          standard  Section A               70          73        70.0  \n",
       "1      free/reduced  Section C               55          54        52.0  \n",
       "2      free/reduced  Section E               56          46        43.0  \n",
       "3      free/reduced  Section C               35          47        41.0  \n",
       "4          standard  Section C               87          92        81.0  \n",
       "...             ...        ...              ...         ...         ...  \n",
       "32094      standard  Section B               82          84         NaN  \n",
       "32095  free/reduced  Section B               70          58         NaN  \n",
       "32096      standard  Section C               76          67         NaN  \n",
       "32097      standard  Section A               62          71         NaN  \n",
       "32098      standard  Section B               58          67         NaN  \n",
       "\n",
       "[32099 rows x 9 columns]"
      ]
     },
     "execution_count": 76,
     "metadata": {},
     "output_type": "execute_result"
    }
   ],
   "source": [
    "data = pd.concat([train_data, test_data], ignore_index=True)\n",
    "data"
   ]
  },
  {
   "cell_type": "code",
   "execution_count": 77,
   "id": "17ef997f",
   "metadata": {},
   "outputs": [
    {
     "data": {
      "text/html": [
       "<div>\n",
       "<style scoped>\n",
       "    .dataframe tbody tr th:only-of-type {\n",
       "        vertical-align: middle;\n",
       "    }\n",
       "\n",
       "    .dataframe tbody tr th {\n",
       "        vertical-align: top;\n",
       "    }\n",
       "\n",
       "    .dataframe thead th {\n",
       "        text-align: right;\n",
       "    }\n",
       "</style>\n",
       "<table border=\"1\" class=\"dataframe\">\n",
       "  <thead>\n",
       "    <tr style=\"text-align: right;\">\n",
       "      <th></th>\n",
       "      <th>practical score</th>\n",
       "      <th>viva score</th>\n",
       "      <th>exam score</th>\n",
       "    </tr>\n",
       "  </thead>\n",
       "  <tbody>\n",
       "    <tr>\n",
       "      <th>count</th>\n",
       "      <td>32099.000000</td>\n",
       "      <td>32099.000000</td>\n",
       "      <td>31999.000000</td>\n",
       "    </tr>\n",
       "    <tr>\n",
       "      <th>mean</th>\n",
       "      <td>67.831615</td>\n",
       "      <td>70.370728</td>\n",
       "      <td>69.139598</td>\n",
       "    </tr>\n",
       "    <tr>\n",
       "      <th>std</th>\n",
       "      <td>15.231314</td>\n",
       "      <td>14.094500</td>\n",
       "      <td>15.009974</td>\n",
       "    </tr>\n",
       "    <tr>\n",
       "      <th>min</th>\n",
       "      <td>15.000000</td>\n",
       "      <td>25.000000</td>\n",
       "      <td>15.000000</td>\n",
       "    </tr>\n",
       "    <tr>\n",
       "      <th>25%</th>\n",
       "      <td>58.000000</td>\n",
       "      <td>61.000000</td>\n",
       "      <td>59.000000</td>\n",
       "    </tr>\n",
       "    <tr>\n",
       "      <th>50%</th>\n",
       "      <td>68.000000</td>\n",
       "      <td>70.000000</td>\n",
       "      <td>70.000000</td>\n",
       "    </tr>\n",
       "    <tr>\n",
       "      <th>75%</th>\n",
       "      <td>80.000000</td>\n",
       "      <td>80.000000</td>\n",
       "      <td>80.000000</td>\n",
       "    </tr>\n",
       "    <tr>\n",
       "      <th>max</th>\n",
       "      <td>100.000000</td>\n",
       "      <td>100.000000</td>\n",
       "      <td>100.000000</td>\n",
       "    </tr>\n",
       "  </tbody>\n",
       "</table>\n",
       "</div>"
      ],
      "text/plain": [
       "       practical score    viva score    exam score\n",
       "count     32099.000000  32099.000000  31999.000000\n",
       "mean         67.831615     70.370728     69.139598\n",
       "std          15.231314     14.094500     15.009974\n",
       "min          15.000000     25.000000     15.000000\n",
       "25%          58.000000     61.000000     59.000000\n",
       "50%          68.000000     70.000000     70.000000\n",
       "75%          80.000000     80.000000     80.000000\n",
       "max         100.000000    100.000000    100.000000"
      ]
     },
     "execution_count": 77,
     "metadata": {},
     "output_type": "execute_result"
    }
   ],
   "source": [
    "data.describe()"
   ]
  },
  {
   "cell_type": "code",
   "execution_count": 78,
   "id": "59f21c4c",
   "metadata": {},
   "outputs": [
    {
     "name": "stdout",
     "output_type": "stream",
     "text": [
      "0        False\n",
      "1        False\n",
      "2        False\n",
      "3        False\n",
      "4        False\n",
      "         ...  \n",
      "32094    False\n",
      "32095    False\n",
      "32096    False\n",
      "32097    False\n",
      "32098    False\n",
      "Length: 32099, dtype: bool\n"
     ]
    }
   ],
   "source": [
    "print(data.duplicated())"
   ]
  },
  {
   "cell_type": "code",
   "execution_count": 79,
   "id": "91ce54e6",
   "metadata": {},
   "outputs": [
    {
     "name": "stdout",
     "output_type": "stream",
     "text": [
      "Roll no                          0\n",
      "test preparation                 0\n",
      "gender                           0\n",
      "parental level of education      0\n",
      "lunch                            0\n",
      "Section                          0\n",
      "practical score                  0\n",
      "viva score                       0\n",
      "exam score                     100\n",
      "dtype: int64\n"
     ]
    }
   ],
   "source": [
    "print(data.isnull().sum())"
   ]
  },
  {
   "cell_type": "code",
   "execution_count": 80,
   "id": "4faf94ae",
   "metadata": {},
   "outputs": [],
   "source": [
    "from sklearn.model_selection import train_test_split"
   ]
  },
  {
   "cell_type": "code",
   "execution_count": 81,
   "id": "4a474b26",
   "metadata": {},
   "outputs": [
    {
     "name": "stdout",
     "output_type": "stream",
     "text": [
      "[[70 73]\n",
      " [55 54]\n",
      " [56 46]\n",
      " ...\n",
      " [76 67]\n",
      " [62 71]\n",
      " [58 67]]\n"
     ]
    }
   ],
   "source": [
    "x = data.iloc[:,6:8].values\n",
    "print(x)"
   ]
  },
  {
   "cell_type": "code",
   "execution_count": 82,
   "id": "aa8b1054",
   "metadata": {},
   "outputs": [
    {
     "name": "stdout",
     "output_type": "stream",
     "text": [
      "['some college' \"master's degree\" \"master's degree\" ... 'some college'\n",
      " \"associate's degree\" 'high school']\n"
     ]
    }
   ],
   "source": [
    "y = data.iloc[:,3].values\n",
    "print(y)"
   ]
  },
  {
   "cell_type": "code",
   "execution_count": 83,
   "id": "6f2ce9af",
   "metadata": {},
   "outputs": [
    {
     "data": {
      "text/plain": [
       "array([[78, 47],\n",
       "       [38, 67],\n",
       "       [72, 60],\n",
       "       ...,\n",
       "       [66, 64],\n",
       "       [45, 54],\n",
       "       [65, 57]], dtype=int64)"
      ]
     },
     "execution_count": 83,
     "metadata": {},
     "output_type": "execute_result"
    }
   ],
   "source": [
    "x_train,x_test,y_train,y_test = train_test_split(x,y,test_size=0.2,random_state=108)\n",
    "x_train"
   ]
  },
  {
   "cell_type": "code",
   "execution_count": 84,
   "id": "3db56d86",
   "metadata": {},
   "outputs": [
    {
     "data": {
      "text/plain": [
       "array([[78, 94],\n",
       "       [80, 48],\n",
       "       [79, 97],\n",
       "       ...,\n",
       "       [54, 91],\n",
       "       [60, 71],\n",
       "       [96, 90]], dtype=int64)"
      ]
     },
     "execution_count": 84,
     "metadata": {},
     "output_type": "execute_result"
    }
   ],
   "source": [
    "x_test"
   ]
  },
  {
   "cell_type": "code",
   "execution_count": 85,
   "id": "bd9987a0",
   "metadata": {},
   "outputs": [
    {
     "data": {
      "text/plain": [
       "array(['high school', 'some college', \"associate's degree\", ...,\n",
       "       \"associate's degree\", 'some high school', 'high school'],\n",
       "      dtype=object)"
      ]
     },
     "execution_count": 85,
     "metadata": {},
     "output_type": "execute_result"
    }
   ],
   "source": [
    "y_train"
   ]
  },
  {
   "cell_type": "code",
   "execution_count": 86,
   "id": "b6eb4537",
   "metadata": {},
   "outputs": [
    {
     "data": {
      "text/plain": [
       "array(['some college', 'some college', 'some college', ...,\n",
       "       \"associate's degree\", \"associate's degree\", 'high school'],\n",
       "      dtype=object)"
      ]
     },
     "execution_count": 86,
     "metadata": {},
     "output_type": "execute_result"
    }
   ],
   "source": [
    "y_test"
   ]
  },
  {
   "cell_type": "code",
   "execution_count": 87,
   "id": "33376568",
   "metadata": {},
   "outputs": [],
   "source": [
    "from sklearn.preprocessing import LabelEncoder"
   ]
  },
  {
   "cell_type": "code",
   "execution_count": 88,
   "id": "d5dc8b74",
   "metadata": {},
   "outputs": [
    {
     "data": {
      "text/plain": [
       "array([4, 3, 3, ..., 4, 0, 2])"
      ]
     },
     "execution_count": 88,
     "metadata": {},
     "output_type": "execute_result"
    }
   ],
   "source": [
    "le_y = LabelEncoder()\n",
    "Y=le_y.fit_transform(y)\n",
    "Y"
   ]
  },
  {
   "cell_type": "code",
   "execution_count": 89,
   "id": "677f083f",
   "metadata": {},
   "outputs": [
    {
     "name": "stdout",
     "output_type": "stream",
     "text": [
      "['high school' 'some college' 'high school' ... \"bachelor's degree\"\n",
      " \"associate's degree\" 'high school']\n"
     ]
    }
   ],
   "source": [
    "from sklearn.neighbors import KNeighborsClassifier\n",
    "\n",
    "knn = KNeighborsClassifier()\n",
    "model = knn.fit(x_train,y_train)\n",
    "y_prediction0 = model.predict(x_test)\n",
    "print(y_prediction0)"
   ]
  },
  {
   "cell_type": "code",
   "execution_count": 90,
   "id": "c3645326",
   "metadata": {},
   "outputs": [
    {
     "data": {
      "text/plain": [
       "0.19937694704049844"
      ]
     },
     "execution_count": 90,
     "metadata": {},
     "output_type": "execute_result"
    }
   ],
   "source": [
    "from sklearn.metrics import accuracy_score\n",
    "knn.score(x_test,y_test)"
   ]
  },
  {
   "cell_type": "code",
   "execution_count": 91,
   "id": "afc17832",
   "metadata": {},
   "outputs": [
    {
     "data": {
      "text/plain": [
       "0.19937694704049844"
      ]
     },
     "execution_count": 91,
     "metadata": {},
     "output_type": "execute_result"
    }
   ],
   "source": [
    "accuracy_score(y_test,y_prediction0)"
   ]
  },
  {
   "cell_type": "code",
   "execution_count": 92,
   "id": "c137f771",
   "metadata": {},
   "outputs": [
    {
     "data": {
      "text/plain": [
       "array([[432, 103, 318,  66, 275, 147],\n",
       "       [210,  72, 158,  30, 141,  75],\n",
       "       [438, 105, 341,  73, 284, 105],\n",
       "       [173,  46, 123,  32, 107,  51],\n",
       "       [447, 101, 337,  60, 306, 147],\n",
       "       [369,  73, 290,  63, 225,  97]], dtype=int64)"
      ]
     },
     "execution_count": 92,
     "metadata": {},
     "output_type": "execute_result"
    }
   ],
   "source": [
    "from sklearn.metrics import confusion_matrix\n",
    "\n",
    "confusion_matrix(y_test,y_prediction0)"
   ]
  },
  {
   "cell_type": "code",
   "execution_count": 93,
   "id": "92b07617",
   "metadata": {},
   "outputs": [
    {
     "name": "stdout",
     "output_type": "stream",
     "text": [
      "                    precision    recall  f1-score   support\n",
      "\n",
      "associate's degree       0.21      0.32      0.25      1341\n",
      " bachelor's degree       0.14      0.10      0.12       686\n",
      "       high school       0.22      0.25      0.23      1346\n",
      "   master's degree       0.10      0.06      0.07       532\n",
      "      some college       0.23      0.22      0.22      1398\n",
      "  some high school       0.16      0.09      0.11      1117\n",
      "\n",
      "          accuracy                           0.20      6420\n",
      "         macro avg       0.18      0.17      0.17      6420\n",
      "      weighted avg       0.19      0.20      0.19      6420\n",
      "\n"
     ]
    }
   ],
   "source": [
    "from sklearn.metrics import classification_report\n",
    "report = classification_report(y_test, y_prediction0)\n",
    "print(report)"
   ]
  },
  {
   "cell_type": "code",
   "execution_count": 94,
   "id": "69f701b6",
   "metadata": {},
   "outputs": [
    {
     "data": {
      "text/plain": [
       "<sklearn.metrics._plot.confusion_matrix.ConfusionMatrixDisplay at 0x1f2d256be50>"
      ]
     },
     "execution_count": 94,
     "metadata": {},
     "output_type": "execute_result"
    },
    {
     "data": {
      "image/png": "[encoded data removed]",
      "text/plain": [
       "<Figure size 640x480 with 2 Axes>"
      ]
     },
     "metadata": {},
     "output_type": "display_data"
    }
   ],
   "source": [
    "from sklearn.metrics import confusion_matrix, ConfusionMatrixDisplay\n",
    "disp=ConfusionMatrixDisplay(confusion_matrix=cm)\n",
    "disp.plot()"
   ]
  },
  {
   "cell_type": "code",
   "execution_count": 95,
   "id": "bbf5dfd0",
   "metadata": {},
   "outputs": [
    {
     "data": {
      "image/png": "[encoded data removed]",
      "text/plain": [
       "<Figure size 1000x600 with 1 Axes>"
      ]
     },
     "metadata": {},
     "output_type": "display_data"
    }
   ],
   "source": [
    "import seaborn as sns\n",
    "import matplotlib.pyplot as plt\n",
    "plt.figure(figsize=(10, 6))\n",
    "sns.histplot(y, bins=30, kde=True)\n",
    "plt.title('Distribution of Exam Scores')\n",
    "plt.xlabel('Exam Score')\n",
    "plt.ylabel('Frequency')\n",
    "plt.show()"
   ]
  },
  {
   "cell_type": "code",
   "execution_count": null,
   "id": "72fe4fd7",
   "metadata": {},
   "outputs": [],
   "source": []
  },
  {
   "cell_type": "code",
   "execution_count": null,
   "id": "562033fb",
   "metadata": {},
   "outputs": [],
   "source": []
  }
 ],
 "metadata": {
  "kernelspec": {
   "display_name": "Python 3 (ipykernel)",
   "language": "python",
   "name": "python3"
  },
  "language_info": {
   "codemirror_mode": {
    "name": "ipython",
    "version": 3
   },
   "file_extension": ".py",
   "mimetype": "text/x-python",
   "name": "python",
   "nbconvert_exporter": "python",
   "pygments_lexer": "ipython3",
   "version": "3.11.5"
  }
 },
 "nbformat": 4,
 "nbformat_minor": 5
}
